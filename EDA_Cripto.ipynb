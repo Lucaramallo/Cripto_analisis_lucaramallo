{
 "cells": [
  {
   "cell_type": "markdown",
   "metadata": {},
   "source": [
    "# Intro:\n",
    " \n",
    "Cryptocurrency represents a relatively new and distinct form of currency that shares some similarities with both fiat money and commodity money, yet also possesses unique characteristics due to its digital and decentralized nature. Let's explore how cryptocurrency compares to these traditional forms of money:\n",
    "\n",
    "## Similarities to Commodity Money:\n",
    "\n",
    "Limited Supply: Like commodity money, many cryptocurrencies have a predefined maximum supply. For example, Bitcoin has a fixed supply of 21 million coins, which is meant to mimic the scarcity aspect of commodities.\n",
    "\n",
    "Decentralization: Cryptocurrencies often operate on decentralized networks, which means they are not controlled by a single entity (like a central bank). This is reminiscent of the decentralized nature of commodity money.\n",
    "\n",
    "## Differences from Commodity Money:\n",
    "\n",
    "Intrinsic Value: Unlike commodity money, cryptocurrencies do not have intrinsic value. Their value is largely driven by market demand, supply dynamics, and speculative trading. They lack a physical backing or direct linkage to a tangible commodity.\n",
    "\n",
    "Digital Nature: Cryptocurrencies are purely digital assets that exist in the form of code on distributed ledgers (blockchains). They lack the physical presence associated with commodity money.\n",
    "\n",
    "## Similarities to Fiat Money:\n",
    "\n",
    "Trust-Based Value: Similar to fiat money, the value of cryptocurrencies is largely based on trust and belief in their utility, security, and potential for adoption.\n",
    "\n",
    "Acceptance as Medium of Exchange: Cryptocurrencies are accepted as a medium of exchange in various transactions and can be used for online purchases, investment, remittances, and more, akin to how fiat money is used.\n",
    "\n",
    "Government Independence: Just as fiat money can exist independently of a commodity backing, cryptocurrencies operate independently of governmental control. They are not issued or regulated by any central authority.\n",
    "\n",
    "## Differences from Fiat Money:\n",
    "\n",
    "Decentralization: While both cryptocurrencies and fiat money can be decentralized in their operation (e.g., through distributed ledger technology), most fiat money is still ultimately managed by central banks or governments, whereas cryptocurrencies operate on decentralized networks.\n",
    "\n",
    "Volatility: Cryptocurrencies tend to exhibit much higher price volatility compared to most fiat currencies. This volatility can be a result of speculative trading, market sentiment, and relatively small market sizes.\n",
    "\n",
    "In essence, cryptocurrencies combine certain aspects of both commodity money and fiat money while introducing their own unique features. They are digital assets that rely on decentralized technology and market demand for their value. The lack of intrinsic value and the presence of extreme price volatility distinguish cryptocurrencies from traditional forms of money. Their role in the global economy and financial landscape continues to evolve as they gain wider acceptance and use cases."
   ]
  },
  {
   "cell_type": "markdown",
   "metadata": {},
   "source": [
    "# `EDA` (Exploratory Data Analysis)\n",
    "\n",
    "Debes realizar un análisis exploratorio de los datos en un notebook. Tienen que estar tus pasos documentados con claridad, con las conclusiones correspondientes en cada gráfico empleado y análisis de lo que vas observando, utilizando celdas Markdown para tal fin. La prolijidad del notebook será un aspecto a evaluar. Es importante que tengas en cuenta que, en muchas oportunidades y trabajos, un EDA constituye un entregable en sí mismo.\n",
    "\n",
    "En esta línea, hay varios aspectos indispensables que **deben** ser abordados en cualquier Análisis Exploratorio de Datos y tomaremos como punto de partida para evaluar tu performance en este apartado. Entre estos aspectos destacados se encuentran: \n",
    "\n",
    "### *búsqueda de valores faltantes, valores atípicos/extremos u outliers y registros duplicados*. \n",
    "\n",
    "Asimismo, la utilización de gráficos coherentes según la tipología de variable que corresponda resulta esencial.\n",
    "\n",
    "***En caso de hacer uso de librerías como pandas_profiling, es indispensable acompañar los gráficos con análisis propios.***"
   ]
  },
  {
   "cell_type": "markdown",
   "metadata": {},
   "source": [
    "## Libreries:"
   ]
  },
  {
   "cell_type": "code",
   "execution_count": 1,
   "metadata": {},
   "outputs": [],
   "source": [
    "import requests\n",
    "import pandas as pd"
   ]
  },
  {
   "cell_type": "markdown",
   "metadata": {},
   "source": [
    "## * [API CoinGecko](https://www.coingecko.com/es/api/documentation):"
   ]
  },
  {
   "cell_type": "markdown",
   "metadata": {},
   "source": [
    "### Listado de monedas:"
   ]
  },
  {
   "cell_type": "code",
   "execution_count": 2,
   "metadata": {},
   "outputs": [
    {
     "name": "stdout",
     "output_type": "stream",
     "text": [
      "                             id symbol                       name\n",
      "0                        01coin    zoc                     01coin\n",
      "1                        0chain    zcn                        Zus\n",
      "2                 0vix-protocol    vix              0VIX Protocol\n",
      "3                            0x    zrx                0x Protocol\n",
      "4      0x0-ai-ai-smart-contract    0x0  0x0.ai: AI Smart Contract\n",
      "...                         ...    ...                        ...\n",
      "10049                  zynecoin    zyn                   Zynecoin\n",
      "10050                   zynergy    zyn                    Zynergy\n",
      "10051                     zyrri    zyr                      Zyrri\n",
      "10052                       zyx    zyx                        ZYX\n",
      "10053                       zzz    zzz                GoSleep ZZZ\n",
      "\n",
      "[10054 rows x 3 columns]\n"
     ]
    }
   ],
   "source": [
    "def get_coin_list():\n",
    "    url = \"https://api.coingecko.com/api/v3/coins/list?include_platform=false\"\n",
    "    \n",
    "    response = requests.get(url)\n",
    "    \n",
    "    if response.status_code == 200:\n",
    "        coin_list = response.json()\n",
    "        list_of_coins = pd.DataFrame(coin_list)\n",
    "        return list_of_coins\n",
    "    else:\n",
    "        print(\"Error en la solicitud: Listado de monedas\", response.status_code)\n",
    "        return None\n",
    "\n",
    "if __name__ == \"__main__\":\n",
    "    list_of_coins = get_coin_list()\n",
    "    if list_of_coins is not None:\n",
    "        print(list_of_coins)\n"
   ]
  },
  {
   "cell_type": "markdown",
   "metadata": {},
   "source": [
    "### Listado de precios, market caps y total volumes:"
   ]
  },
  {
   "cell_type": "code",
   "execution_count": 3,
   "metadata": {},
   "outputs": [
    {
     "name": "stdout",
     "output_type": "stream",
     "text": [
      "                            prices                          market_caps  \\\n",
      "0     [1605744000000, 17829.93496]  [1605744000000, 330792375072.03064]   \n",
      "1     [1605830400000, 17819.75743]   [1605830400000, 330526082018.5286]   \n",
      "2     [1605916800000, 18628.81349]  [1605916800000, 345552251091.15924]   \n",
      "3     [1606003200000, 18689.52866]   [1606003200000, 346623937352.1668]   \n",
      "4     [1606089600000, 18390.61184]   [1606089600000, 342078349285.0962]   \n",
      "...                            ...                                  ...   \n",
      "996   [1691798400000, 29396.84797]   [1691798400000, 571976559045.8302]   \n",
      "997   [1691884800000, 29412.14227]   [1691884800000, 572257798803.9086]   \n",
      "998   [1691971200000, 29284.96971]   [1691971200000, 569687130446.7833]   \n",
      "999    [1692057600000, 29400.5868]   [1692057600000, 572242735188.2397]   \n",
      "1000  [1692069505000, 29359.78182]   [1692069505000, 571247923104.3986]   \n",
      "\n",
      "                            total_volumes  \n",
      "0      [1605744000000, 40089857655.31074]  \n",
      "1     [1605830400000, 30586797551.711708]  \n",
      "2     [1605916800000, 28731271104.013725]  \n",
      "3     [1606003200000, 31201880851.778336]  \n",
      "4      [1606089600000, 33010231293.95878]  \n",
      "...                                   ...  \n",
      "996    [1691798400000, 4651950357.636653]  \n",
      "997    [1691884800000, 3994297895.288944]  \n",
      "998    [1691971200000, 4755220448.634491]  \n",
      "999   [1692057600000, 12408355477.111338]  \n",
      "1000  [1692069505000, 12099564098.566088]  \n",
      "\n",
      "[1001 rows x 3 columns]\n"
     ]
    }
   ],
   "source": [
    "#for one coine only, historical prices.\n",
    "\n",
    "def get_coin_list():\n",
    "    url = \"https://api.coingecko.com/api/v3/coins/bitcoin/market_chart?vs_currency=usd&days=1000&interval=daily&precision=5\"\n",
    "    \n",
    "    response = requests.get(url)\n",
    "    \n",
    "    if response.status_code == 200:\n",
    "        coin_price_list = response.json()\n",
    "        list_of_prices = pd.DataFrame(coin_price_list)\n",
    "        return list_of_prices\n",
    "    else:\n",
    "        print(\"Error en la solicitud: Listado de monedas\", response.status_code)\n",
    "        return None\n",
    "\n",
    "if __name__ == \"__main__\":\n",
    "    list_of_prices = get_coin_list()\n",
    "    if list_of_prices is not None:\n",
    "        print(list_of_prices)"
   ]
  },
  {
   "cell_type": "markdown",
   "metadata": {},
   "source": [
    "### OHLC of the currency\n",
    "[\n",
    "1594382400000 (time),\n",
    "1.1 (open),\n",
    "2.2 (high),\n",
    "3.3 (low),\n",
    "4.4 (close)\n",
    "]"
   ]
  },
  {
   "cell_type": "code",
   "execution_count": 4,
   "metadata": {},
   "outputs": [
    {
     "name": "stdout",
     "output_type": "stream",
     "text": [
      "                 0            1            2            3            4\n",
      "0    1689508800000  30317.93269  30317.93269  30317.93269  30317.93269\n",
      "1    1689523200000  30314.62981  30414.45589  30308.60320  30414.45589\n",
      "2    1689537600000  30390.60042  30395.35589  30325.08121  30325.08121\n",
      "3    1689552000000  30276.12799  30340.36734  30276.12799  30340.36734\n",
      "4    1689566400000  30237.33479  30308.41177  30225.18268  30291.07834\n",
      "..             ...          ...          ...          ...          ...\n",
      "176  1692043200000  29566.40029  29652.92121  29295.83595  29295.83595\n",
      "177  1692057600000  29327.43938  29424.76026  29327.43938  29424.76026\n",
      "178  1692072000000  29400.58680  29400.58680  29344.43692  29344.43692\n",
      "179  1692086400000  29349.91371  29351.61102  29341.66613  29341.66613\n",
      "180  1692100800000  29389.99158  29393.61844  29389.99158  29393.61844\n",
      "\n",
      "[181 rows x 5 columns]\n"
     ]
    }
   ],
   "source": [
    "def get_coin_list():\n",
    "    url = \"https://api.coingecko.com/api/v3/coins/bitcoin/ohlc?vs_currency=usd&days=30&precision=5\"\n",
    "    \n",
    "    response = requests.get(url)\n",
    "    \n",
    "    if response.status_code == 200:\n",
    "        coin_price_OHLC = response.json()\n",
    "        list_of_prices_OHLC = pd.DataFrame(coin_price_OHLC)\n",
    "        return list_of_prices_OHLC\n",
    "    else:\n",
    "        print(\"Error en la solicitud: Listado de monedas\", response.status_code)\n",
    "        return None\n",
    "\n",
    "if __name__ == \"__main__\":\n",
    "    list_of_prices_OHLC = get_coin_list()\n",
    "    if list_of_prices_OHLC is not None:\n",
    "        print(list_of_prices_OHLC)"
   ]
  },
  {
   "cell_type": "markdown",
   "metadata": {},
   "source": [
    "### Global data:\n",
    "Get global data - total_volume, total_market_cap, ongoing icos etc"
   ]
  },
  {
   "cell_type": "code",
   "execution_count": 8,
   "metadata": {},
   "outputs": [
    {
     "name": "stdout",
     "output_type": "stream",
     "text": [
      "                                                                                   data\n",
      "active_cryptocurrencies                                                           10054\n",
      "ended_icos                                                                         3376\n",
      "market_cap_change_percentage_24h_usd                                          -0.057165\n",
      "market_cap_percentage                 {'btc': 46.946462586004586, 'eth': 18.16938748...\n",
      "markets                                                                             813\n",
      "ongoing_icos                                                                         49\n",
      "total_market_cap                      {'btc': 41447197.35667732, 'eth': 661207664.08...\n",
      "total_volume                          {'btc': 1060808.871717152, 'eth': 16923097.358...\n",
      "upcoming_icos                                                                         0\n",
      "updated_at                                                                   1692097528\n"
     ]
    }
   ],
   "source": [
    "\n",
    "def get_coin_list():\n",
    "    url = \"https://api.coingecko.com/api/v3/global\"\n",
    "    \n",
    "    response = requests.get(url)\n",
    "    \n",
    "    if response.status_code == 200:\n",
    "        global_data = response.json()\n",
    "        list_of_global_data = pd.DataFrame(global_data)\n",
    "        return list_of_global_data\n",
    "    else:\n",
    "        print(\"Error en la solicitud: Listado de monedas\", response.status_code)\n",
    "        return None\n",
    "\n",
    "if __name__ == \"__main__\":\n",
    "    list_of_global_data = get_coin_list()\n",
    "    if list_of_global_data is not None:\n",
    "        print(list_of_global_data)\n"
   ]
  },
  {
   "cell_type": "markdown",
   "metadata": {},
   "source": [
    "### Global Eecentralized Finance(defi) data:\n",
    "Code\tDescription\n",
    "defi_market_cap\t\n",
    "Defi Market Capitalization in USD\n",
    "\n",
    "eth_market_cap\t\n",
    "Ethereum Market Capitalization in USD\n",
    "\n",
    "defi_to_eth_ratio\t\n",
    "defi_market_cap to eth_market_cap ratio\n",
    "\n",
    "trading_volume_24h\t\n",
    "defi trading volume in 24h in USD\n",
    "\n",
    "defi_dominance\t\n",
    "defi_market_cap to total_market_cap ratio\n",
    "\n",
    "top_coin_name\t\n",
    "defi coin with largest market_cap\n",
    "\n",
    "top_coin_dominance\t\n",
    "top defi coin market dominance"
   ]
  },
  {
   "cell_type": "code",
   "execution_count": 11,
   "metadata": {},
   "outputs": [
    {
     "name": "stdout",
     "output_type": "stream",
     "text": [
      "                                                                      data\n",
      "defi_dominance           3.84132692402662731546244539968237394523629182...\n",
      "defi_market_cap                             46748708415.454768594682562666\n",
      "defi_to_eth_ratio        21.1412028346678930806547531475364228650340291...\n",
      "eth_market_cap                            221126057874.0345997600737112035\n",
      "top_coin_defi_dominance                                          31.967379\n",
      "top_coin_name                                            Lido Staked Ether\n",
      "trading_volume_24h                         1717649195.10241245063505759008\n"
     ]
    }
   ],
   "source": [
    "def get_coin_list():\n",
    "    url = \"https://api.coingecko.com/api/v3/global/decentralized_finance_defi\"\n",
    "    \n",
    "    response = requests.get(url)\n",
    "    \n",
    "    if response.status_code == 200:\n",
    "        global_ecentralized_data = response.json()\n",
    "        list_of_global_ecentralized_data = pd.DataFrame(global_ecentralized_data)\n",
    "        return list_of_global_ecentralized_data\n",
    "    else:\n",
    "        print(\"Error en la solicitud: Listado de monedas\", response.status_code)\n",
    "        return None\n",
    "\n",
    "if __name__ == \"__main__\":\n",
    "    list_of_global_ecentralized_data = get_coin_list()\n",
    "    if list_of_global_ecentralized_data is not None:\n",
    "        print(list_of_global_ecentralized_data)\n"
   ]
  },
  {
   "cell_type": "markdown",
   "metadata": {},
   "source": [
    "### Trending top 7:\n",
    "Top-7 trending coins on CoinGecko as searched by users in the last 24 hours (Ordered by most popular first)."
   ]
  },
  {
   "cell_type": "code",
   "execution_count": 21,
   "metadata": {},
   "outputs": [
    {
     "name": "stdout",
     "output_type": "stream",
     "text": [
      "Coins DataFrame:\n",
      "                          id  coin_id                              name  \\\n",
      "0            benft-solutions    30669                   BeNFT Solutions   \n",
      "1                      serum    11970                             Serum   \n",
      "2                  clearpool    19252                         Clearpool   \n",
      "3  harrypotterobamasonic10in    30323  HarryPotterObamaSonic10Inu (ETH)   \n",
      "4                  thorchain     6595                         THORChain   \n",
      "5           hedera-hashgraph     3688                            Hedera   \n",
      "6                     unibot    30462                            Unibot   \n",
      "7              worldcoin-wld    31069                         Worldcoin   \n",
      "\n",
      "    symbol  market_cap_rank  \\\n",
      "0     BEAI              600   \n",
      "1      SRM              678   \n",
      "2    CPOOL              974   \n",
      "3  BITCOIN              201   \n",
      "4     RUNE               87   \n",
      "5     HBAR               31   \n",
      "6   UNIBOT              171   \n",
      "7      WLD              154   \n",
      "\n",
      "                                               thumb  \\\n",
      "0  https://assets.coingecko.com/coins/images/3066...   \n",
      "1  https://assets.coingecko.com/coins/images/1197...   \n",
      "2  https://assets.coingecko.com/coins/images/1925...   \n",
      "3  https://assets.coingecko.com/coins/images/3032...   \n",
      "4  https://assets.coingecko.com/coins/images/6595...   \n",
      "5  https://assets.coingecko.com/coins/images/3688...   \n",
      "6  https://assets.coingecko.com/coins/images/3046...   \n",
      "7  https://assets.coingecko.com/coins/images/3106...   \n",
      "\n",
      "                                               small  \\\n",
      "0  https://assets.coingecko.com/coins/images/3066...   \n",
      "1  https://assets.coingecko.com/coins/images/1197...   \n",
      "2  https://assets.coingecko.com/coins/images/1925...   \n",
      "3  https://assets.coingecko.com/coins/images/3032...   \n",
      "4  https://assets.coingecko.com/coins/images/6595...   \n",
      "5  https://assets.coingecko.com/coins/images/3688...   \n",
      "6  https://assets.coingecko.com/coins/images/3046...   \n",
      "7  https://assets.coingecko.com/coins/images/3106...   \n",
      "\n",
      "                                               large  \\\n",
      "0  https://assets.coingecko.com/coins/images/3066...   \n",
      "1  https://assets.coingecko.com/coins/images/1197...   \n",
      "2  https://assets.coingecko.com/coins/images/1925...   \n",
      "3  https://assets.coingecko.com/coins/images/3032...   \n",
      "4  https://assets.coingecko.com/coins/images/6595...   \n",
      "5  https://assets.coingecko.com/coins/images/3688...   \n",
      "6  https://assets.coingecko.com/coins/images/3046...   \n",
      "7  https://assets.coingecko.com/coins/images/3106...   \n",
      "\n",
      "                             slug     price_btc  score  \n",
      "0                 benft-solutions  5.044932e-04      0  \n",
      "1                           serum  1.793507e-06      1  \n",
      "2                       clearpool  7.116387e-07      2  \n",
      "3  harrypotterobamasonic10inu-eth  5.291191e-06      3  \n",
      "4                       thorchain  5.358854e-05      4  \n",
      "5                          hedera  2.463688e-06      5  \n",
      "6                          unibot  6.552372e-03      6  \n",
      "7                       worldcoin  5.976770e-05      7  \n"
     ]
    }
   ],
   "source": [
    "def get_coin_list():\n",
    "    url = \"https://api.coingecko.com/api/v3/search/trending\"\n",
    "    \n",
    "    response = requests.get(url)\n",
    "    \n",
    "    if response.status_code == 200:\n",
    "        global_trends = response.json()\n",
    "        coins_data_global_trends = global_trends.get('coins', [])  # Extract coins data\n",
    "        \n",
    "        coins_global_trends = pd.DataFrame([item['item'] for item in coins_data_global_trends])  # Create DataFrame for coins\n",
    "        \n",
    "        return coins_global_trends\n",
    "    else:\n",
    "        print(\"Error en la solicitud: Listado de monedas\", response.status_code)\n",
    "        return None\n",
    "\n",
    "if __name__ == \"__main__\":\n",
    "    coins_global_trends = get_coin_list()\n",
    "    if coins_global_trends is not None:\n",
    "        print(\"Coins DataFrame:\")\n",
    "        print(coins_global_trends)\n",
    "\n"
   ]
  }
 ],
 "metadata": {
  "kernelspec": {
   "display_name": "Python 3",
   "language": "python",
   "name": "python3"
  },
  "language_info": {
   "codemirror_mode": {
    "name": "ipython",
    "version": 3
   },
   "file_extension": ".py",
   "mimetype": "text/x-python",
   "name": "python",
   "nbconvert_exporter": "python",
   "pygments_lexer": "ipython3",
   "version": "3.10.11"
  },
  "orig_nbformat": 4
 },
 "nbformat": 4,
 "nbformat_minor": 2
}
