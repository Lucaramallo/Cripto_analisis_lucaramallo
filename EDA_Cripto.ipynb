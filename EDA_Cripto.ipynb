{
 "cells": [
  {
   "cell_type": "markdown",
   "metadata": {},
   "source": [
    "# Intro:\n",
    " \n",
    "Cryptocurrency represents a relatively new and distinct form of currency that shares some similarities with both fiat money and commodity money, yet also possesses unique characteristics due to its digital and decentralized nature. Let's explore how cryptocurrency compares to these traditional forms of money:\n",
    "\n",
    "## Similarities to Commodity Money:\n",
    "\n",
    "Limited Supply: Like commodity money, many cryptocurrencies have a predefined maximum supply. For example, Bitcoin has a fixed supply of 21 million coins, which is meant to mimic the scarcity aspect of commodities.\n",
    "\n",
    "Decentralization: Cryptocurrencies often operate on decentralized networks, which means they are not controlled by a single entity (like a central bank). This is reminiscent of the decentralized nature of commodity money.\n",
    "\n",
    "## Differences from Commodity Money:\n",
    "\n",
    "Intrinsic Value: Unlike commodity money, cryptocurrencies do not have intrinsic value. Their value is largely driven by market demand, supply dynamics, and speculative trading. They lack a physical backing or direct linkage to a tangible commodity.\n",
    "\n",
    "Digital Nature: Cryptocurrencies are purely digital assets that exist in the form of code on distributed ledgers (blockchains). They lack the physical presence associated with commodity money.\n",
    "\n",
    "## Similarities to Fiat Money:\n",
    "\n",
    "Trust-Based Value: Similar to fiat money, the value of cryptocurrencies is largely based on trust and belief in their utility, security, and potential for adoption.\n",
    "\n",
    "Acceptance as Medium of Exchange: Cryptocurrencies are accepted as a medium of exchange in various transactions and can be used for online purchases, investment, remittances, and more, akin to how fiat money is used.\n",
    "\n",
    "Government Independence: Just as fiat money can exist independently of a commodity backing, cryptocurrencies operate independently of governmental control. They are not issued or regulated by any central authority.\n",
    "\n",
    "## Differences from Fiat Money:\n",
    "\n",
    "Decentralization: While both cryptocurrencies and fiat money can be decentralized in their operation (e.g., through distributed ledger technology), most fiat money is still ultimately managed by central banks or governments, whereas cryptocurrencies operate on decentralized networks.\n",
    "\n",
    "Volatility: Cryptocurrencies tend to exhibit much higher price volatility compared to most fiat currencies. This volatility can be a result of speculative trading, market sentiment, and relatively small market sizes.\n",
    "\n",
    "In essence, cryptocurrencies combine certain aspects of both commodity money and fiat money while introducing their own unique features. They are digital assets that rely on decentralized technology and market demand for their value. The lack of intrinsic value and the presence of extreme price volatility distinguish cryptocurrencies from traditional forms of money. Their role in the global economy and financial landscape continues to evolve as they gain wider acceptance and use cases."
   ]
  },
  {
   "cell_type": "markdown",
   "metadata": {},
   "source": [
    "# `EDA` (Exploratory Data Analysis)\n",
    "\n",
    "Debes realizar un análisis exploratorio de los datos en un notebook. Tienen que estar tus pasos documentados con claridad, con las conclusiones correspondientes en cada gráfico empleado y análisis de lo que vas observando, utilizando celdas Markdown para tal fin. La prolijidad del notebook será un aspecto a evaluar. Es importante que tengas en cuenta que, en muchas oportunidades y trabajos, un EDA constituye un entregable en sí mismo.\n",
    "\n",
    "En esta línea, hay varios aspectos indispensables que **deben** ser abordados en cualquier Análisis Exploratorio de Datos y tomaremos como punto de partida para evaluar tu performance en este apartado. Entre estos aspectos destacados se encuentran: \n",
    "\n",
    "### *búsqueda de valores faltantes, valores atípicos/extremos u outliers y registros duplicados*. \n",
    "\n",
    "Asimismo, la utilización de gráficos coherentes según la tipología de variable que corresponda resulta esencial.\n",
    "\n",
    "***En caso de hacer uso de librerías como pandas_profiling, es indispensable acompañar los gráficos con análisis propios.***"
   ]
  },
  {
   "cell_type": "markdown",
   "metadata": {},
   "source": [
    "## Libreries:"
   ]
  },
  {
   "cell_type": "code",
   "execution_count": 1,
   "metadata": {},
   "outputs": [],
   "source": [
    "import requests\n",
    "import pandas as pd"
   ]
  },
  {
   "cell_type": "markdown",
   "metadata": {},
   "source": [
    "## * [API CoinGecko](https://www.coingecko.com/es/api/documentation):"
   ]
  },
  {
   "cell_type": "markdown",
   "metadata": {},
   "source": [
    "### Listado de monedas:"
   ]
  },
  {
   "cell_type": "code",
   "execution_count": 4,
   "metadata": {},
   "outputs": [
    {
     "name": "stdout",
     "output_type": "stream",
     "text": [
      "                             id symbol                       name\n",
      "0                        01coin    zoc                     01coin\n",
      "1                        0chain    zcn                        Zus\n",
      "2                 0vix-protocol    vix              0VIX Protocol\n",
      "3                            0x    zrx                0x Protocol\n",
      "4      0x0-ai-ai-smart-contract    0x0  0x0.ai: AI Smart Contract\n",
      "...                         ...    ...                        ...\n",
      "10044                  zynecoin    zyn                   Zynecoin\n",
      "10045                   zynergy    zyn                    Zynergy\n",
      "10046                     zyrri    zyr                      Zyrri\n",
      "10047                       zyx    zyx                        ZYX\n",
      "10048                       zzz    zzz                GoSleep ZZZ\n",
      "\n",
      "[10049 rows x 3 columns]\n"
     ]
    }
   ],
   "source": [
    "def get_coin_list():\n",
    "    url = \"https://api.coingecko.com/api/v3/coins/list?include_platform=false\"\n",
    "    \n",
    "    response = requests.get(url)\n",
    "    \n",
    "    if response.status_code == 200:\n",
    "        coin_list = response.json()\n",
    "        list_of_coins = pd.DataFrame(coin_list)\n",
    "        return list_of_coins\n",
    "    else:\n",
    "        print(\"Error en la solicitud: Listado de monedas\", response.status_code)\n",
    "        return None\n",
    "\n",
    "if __name__ == \"__main__\":\n",
    "    list_of_coins = get_coin_list()\n",
    "    if list_of_coins is not None:\n",
    "        print(list_of_coins)\n"
   ]
  },
  {
   "cell_type": "markdown",
   "metadata": {},
   "source": [
    "### Listado de precios, market caps y total volumes:"
   ]
  },
  {
   "cell_type": "code",
   "execution_count": 5,
   "metadata": {},
   "outputs": [
    {
     "name": "stdout",
     "output_type": "stream",
     "text": [
      "                            prices                          market_caps  \\\n",
      "0     [1605744000000, 17829.93496]  [1605744000000, 330792375072.03064]   \n",
      "1     [1605830400000, 17819.75743]   [1605830400000, 330526082018.5286]   \n",
      "2     [1605916800000, 18628.81349]  [1605916800000, 345552251091.15924]   \n",
      "3     [1606003200000, 18689.52866]   [1606003200000, 346623937352.1668]   \n",
      "4     [1606089600000, 18390.61184]   [1606089600000, 342078349285.0962]   \n",
      "...                            ...                                  ...   \n",
      "996   [1691798400000, 29396.84797]   [1691798400000, 571976559045.8302]   \n",
      "997   [1691884800000, 29412.14227]   [1691884800000, 572257798803.9086]   \n",
      "998   [1691971200000, 29284.96971]   [1691971200000, 569687130446.7833]   \n",
      "999    [1692057600000, 29400.5868]   [1692057600000, 572242735188.2397]   \n",
      "1000  [1692069505000, 29359.78182]   [1692069505000, 571247923104.3986]   \n",
      "\n",
      "                            total_volumes  \n",
      "0      [1605744000000, 40089857655.31074]  \n",
      "1     [1605830400000, 30586797551.711708]  \n",
      "2     [1605916800000, 28731271104.013725]  \n",
      "3     [1606003200000, 31201880851.778336]  \n",
      "4      [1606089600000, 33010231293.95878]  \n",
      "...                                   ...  \n",
      "996    [1691798400000, 4651950357.636653]  \n",
      "997    [1691884800000, 3994297895.288944]  \n",
      "998    [1691971200000, 4755220448.634491]  \n",
      "999   [1692057600000, 12408355477.111338]  \n",
      "1000  [1692069505000, 12099564098.566088]  \n",
      "\n",
      "[1001 rows x 3 columns]\n"
     ]
    }
   ],
   "source": [
    "\n",
    "\n",
    "def get_coin_list():\n",
    "    url = \"https://api.coingecko.com/api/v3/coins/bitcoin/market_chart?vs_currency=usd&days=1000&interval=daily&precision=5\"\n",
    "    \n",
    "    response = requests.get(url)\n",
    "    \n",
    "    if response.status_code == 200:\n",
    "        coin_price_list = response.json()\n",
    "        list_of_prices = pd.DataFrame(coin_price_list)\n",
    "        return list_of_prices\n",
    "    else:\n",
    "        print(\"Error en la solicitud: Listado de monedas\", response.status_code)\n",
    "        return None\n",
    "\n",
    "if __name__ == \"__main__\":\n",
    "    list_of_prices = get_coin_list()\n",
    "    if list_of_prices is not None:\n",
    "        print(list_of_prices)"
   ]
  }
 ],
 "metadata": {
  "kernelspec": {
   "display_name": "Python 3",
   "language": "python",
   "name": "python3"
  },
  "language_info": {
   "codemirror_mode": {
    "name": "ipython",
    "version": 3
   },
   "file_extension": ".py",
   "mimetype": "text/x-python",
   "name": "python",
   "nbconvert_exporter": "python",
   "pygments_lexer": "ipython3",
   "version": "3.10.11"
  },
  "orig_nbformat": 4
 },
 "nbformat": 4,
 "nbformat_minor": 2
}
