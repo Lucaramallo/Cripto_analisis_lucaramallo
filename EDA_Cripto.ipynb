{
 "cells": [
  {
   "cell_type": "markdown",
   "metadata": {},
   "source": [
    "# Intro:\n",
    " \n",
    "Cryptocurrency represents a relatively new and distinct form of currency that shares some similarities with both fiat money and commodity money, yet also possesses unique characteristics due to its digital and decentralized nature. Let's explore how cryptocurrency compares to these traditional forms of money:\n",
    "\n",
    "## Similarities to Commodity Money:\n",
    "\n",
    "Limited Supply: Like commodity money, many cryptocurrencies have a predefined maximum supply. For example, Bitcoin has a fixed supply of 21 million coins, which is meant to mimic the scarcity aspect of commodities.\n",
    "\n",
    "Decentralization: Cryptocurrencies often operate on decentralized networks, which means they are not controlled by a single entity (like a central bank). This is reminiscent of the decentralized nature of commodity money.\n",
    "\n",
    "## Differences from Commodity Money:\n",
    "\n",
    "Intrinsic Value: Unlike commodity money, cryptocurrencies do not have intrinsic value. Their value is largely driven by market demand, supply dynamics, and speculative trading. They lack a physical backing or direct linkage to a tangible commodity.\n",
    "\n",
    "Digital Nature: Cryptocurrencies are purely digital assets that exist in the form of code on distributed ledgers (blockchains). They lack the physical presence associated with commodity money.\n",
    "\n",
    "## Similarities to Fiat Money:\n",
    "\n",
    "Trust-Based Value: Similar to fiat money, the value of cryptocurrencies is largely based on trust and belief in their utility, security, and potential for adoption.\n",
    "\n",
    "Acceptance as Medium of Exchange: Cryptocurrencies are accepted as a medium of exchange in various transactions and can be used for online purchases, investment, remittances, and more, akin to how fiat money is used.\n",
    "\n",
    "Government Independence: Just as fiat money can exist independently of a commodity backing, cryptocurrencies operate independently of governmental control. They are not issued or regulated by any central authority.\n",
    "\n",
    "## Differences from Fiat Money:\n",
    "\n",
    "Decentralization: While both cryptocurrencies and fiat money can be decentralized in their operation (e.g., through distributed ledger technology), most fiat money is still ultimately managed by central banks or governments, whereas cryptocurrencies operate on decentralized networks.\n",
    "\n",
    "Volatility: Cryptocurrencies tend to exhibit much higher price volatility compared to most fiat currencies. This volatility can be a result of speculative trading, market sentiment, and relatively small market sizes.\n",
    "\n",
    "In essence, cryptocurrencies combine certain aspects of both commodity money and fiat money while introducing their own unique features. They are digital assets that rely on decentralized technology and market demand for their value. The lack of intrinsic value and the presence of extreme price volatility distinguish cryptocurrencies from traditional forms of money. Their role in the global economy and financial landscape continues to evolve as they gain wider acceptance and use cases."
   ]
  },
  {
   "cell_type": "markdown",
   "metadata": {},
   "source": [
    "# `EDA` (Exploratory Data Analysis)\n",
    "\n",
    "Debes realizar un análisis exploratorio de los datos en un notebook. Tienen que estar tus pasos documentados con claridad, con las conclusiones correspondientes en cada gráfico empleado y análisis de lo que vas observando, utilizando celdas Markdown para tal fin. La prolijidad del notebook será un aspecto a evaluar. Es importante que tengas en cuenta que, en muchas oportunidades y trabajos, un EDA constituye un entregable en sí mismo.\n",
    "\n",
    "En esta línea, hay varios aspectos indispensables que **deben** ser abordados en cualquier Análisis Exploratorio de Datos y tomaremos como punto de partida para evaluar tu performance en este apartado. Entre estos aspectos destacados se encuentran: \n",
    "\n",
    "### *búsqueda de valores faltantes, valores atípicos/extremos u outliers y registros duplicados*. \n",
    "\n",
    "Asimismo, la utilización de gráficos coherentes según la tipología de variable que corresponda resulta esencial.\n",
    "\n",
    "***En caso de hacer uso de librerías como pandas_profiling, es indispensable acompañar los gráficos con análisis propios.***"
   ]
  },
  {
   "cell_type": "markdown",
   "metadata": {},
   "source": [
    "## Libreries:"
   ]
  },
  {
   "cell_type": "code",
   "execution_count": 1,
   "metadata": {},
   "outputs": [],
   "source": [
    "import requests\n",
    "import pandas as pd"
   ]
  },
  {
   "cell_type": "markdown",
   "metadata": {},
   "source": [
    "## * [API CoinGecko](https://www.coingecko.com/es/api/documentation):"
   ]
  },
  {
   "cell_type": "markdown",
   "metadata": {},
   "source": [
    "### Listado de monedas:"
   ]
  },
  {
   "cell_type": "code",
   "execution_count": 2,
   "metadata": {},
   "outputs": [
    {
     "ename": "ConnectionError",
     "evalue": "HTTPSConnectionPool(host='api.coingecko.com', port=443): Max retries exceeded with url: /api/v3/coins/list?include_platform=false (Caused by NewConnectionError('<urllib3.connection.HTTPSConnection object at 0x000001E9FB658EB0>: Failed to establish a new connection: [Errno 11001] getaddrinfo failed'))",
     "output_type": "error",
     "traceback": [
      "\u001b[1;31m---------------------------------------------------------------------------\u001b[0m",
      "\u001b[1;31mgaierror\u001b[0m                                  Traceback (most recent call last)",
      "File \u001b[1;32m~\\AppData\\Local\\Packages\\PythonSoftwareFoundation.Python.3.10_qbz5n2kfra8p0\\LocalCache\\local-packages\\Python310\\site-packages\\urllib3\\connection.py:174\u001b[0m, in \u001b[0;36mHTTPConnection._new_conn\u001b[1;34m(self)\u001b[0m\n\u001b[0;32m    173\u001b[0m \u001b[39mtry\u001b[39;00m:\n\u001b[1;32m--> 174\u001b[0m     conn \u001b[39m=\u001b[39m connection\u001b[39m.\u001b[39mcreate_connection(\n\u001b[0;32m    175\u001b[0m         (\u001b[39mself\u001b[39m\u001b[39m.\u001b[39m_dns_host, \u001b[39mself\u001b[39m\u001b[39m.\u001b[39mport), \u001b[39mself\u001b[39m\u001b[39m.\u001b[39mtimeout, \u001b[39m*\u001b[39m\u001b[39m*\u001b[39mextra_kw\n\u001b[0;32m    176\u001b[0m     )\n\u001b[0;32m    178\u001b[0m \u001b[39mexcept\u001b[39;00m SocketTimeout:\n",
      "File \u001b[1;32m~\\AppData\\Local\\Packages\\PythonSoftwareFoundation.Python.3.10_qbz5n2kfra8p0\\LocalCache\\local-packages\\Python310\\site-packages\\urllib3\\util\\connection.py:72\u001b[0m, in \u001b[0;36mcreate_connection\u001b[1;34m(address, timeout, source_address, socket_options)\u001b[0m\n\u001b[0;32m     68\u001b[0m     \u001b[39mreturn\u001b[39;00m six\u001b[39m.\u001b[39mraise_from(\n\u001b[0;32m     69\u001b[0m         LocationParseError(\u001b[39mu\u001b[39m\u001b[39m\"\u001b[39m\u001b[39m'\u001b[39m\u001b[39m%s\u001b[39;00m\u001b[39m'\u001b[39m\u001b[39m, label empty or too long\u001b[39m\u001b[39m\"\u001b[39m \u001b[39m%\u001b[39m host), \u001b[39mNone\u001b[39;00m\n\u001b[0;32m     70\u001b[0m     )\n\u001b[1;32m---> 72\u001b[0m \u001b[39mfor\u001b[39;00m res \u001b[39min\u001b[39;00m socket\u001b[39m.\u001b[39;49mgetaddrinfo(host, port, family, socket\u001b[39m.\u001b[39;49mSOCK_STREAM):\n\u001b[0;32m     73\u001b[0m     af, socktype, proto, canonname, sa \u001b[39m=\u001b[39m res\n",
      "File \u001b[1;32mC:\\Program Files\\WindowsApps\\PythonSoftwareFoundation.Python.3.10_3.10.3056.0_x64__qbz5n2kfra8p0\\lib\\socket.py:955\u001b[0m, in \u001b[0;36mgetaddrinfo\u001b[1;34m(host, port, family, type, proto, flags)\u001b[0m\n\u001b[0;32m    954\u001b[0m addrlist \u001b[39m=\u001b[39m []\n\u001b[1;32m--> 955\u001b[0m \u001b[39mfor\u001b[39;00m res \u001b[39min\u001b[39;00m _socket\u001b[39m.\u001b[39;49mgetaddrinfo(host, port, family, \u001b[39mtype\u001b[39;49m, proto, flags):\n\u001b[0;32m    956\u001b[0m     af, socktype, proto, canonname, sa \u001b[39m=\u001b[39m res\n",
      "\u001b[1;31mgaierror\u001b[0m: [Errno 11001] getaddrinfo failed",
      "\nDuring handling of the above exception, another exception occurred:\n",
      "\u001b[1;31mNewConnectionError\u001b[0m                        Traceback (most recent call last)",
      "File \u001b[1;32m~\\AppData\\Local\\Packages\\PythonSoftwareFoundation.Python.3.10_qbz5n2kfra8p0\\LocalCache\\local-packages\\Python310\\site-packages\\urllib3\\connectionpool.py:703\u001b[0m, in \u001b[0;36mHTTPConnectionPool.urlopen\u001b[1;34m(self, method, url, body, headers, retries, redirect, assert_same_host, timeout, pool_timeout, release_conn, chunked, body_pos, **response_kw)\u001b[0m\n\u001b[0;32m    702\u001b[0m \u001b[39m# Make the request on the httplib connection object.\u001b[39;00m\n\u001b[1;32m--> 703\u001b[0m httplib_response \u001b[39m=\u001b[39m \u001b[39mself\u001b[39;49m\u001b[39m.\u001b[39;49m_make_request(\n\u001b[0;32m    704\u001b[0m     conn,\n\u001b[0;32m    705\u001b[0m     method,\n\u001b[0;32m    706\u001b[0m     url,\n\u001b[0;32m    707\u001b[0m     timeout\u001b[39m=\u001b[39;49mtimeout_obj,\n\u001b[0;32m    708\u001b[0m     body\u001b[39m=\u001b[39;49mbody,\n\u001b[0;32m    709\u001b[0m     headers\u001b[39m=\u001b[39;49mheaders,\n\u001b[0;32m    710\u001b[0m     chunked\u001b[39m=\u001b[39;49mchunked,\n\u001b[0;32m    711\u001b[0m )\n\u001b[0;32m    713\u001b[0m \u001b[39m# If we're going to release the connection in ``finally:``, then\u001b[39;00m\n\u001b[0;32m    714\u001b[0m \u001b[39m# the response doesn't need to know about the connection. Otherwise\u001b[39;00m\n\u001b[0;32m    715\u001b[0m \u001b[39m# it will also try to release it and we'll have a double-release\u001b[39;00m\n\u001b[0;32m    716\u001b[0m \u001b[39m# mess.\u001b[39;00m\n",
      "File \u001b[1;32m~\\AppData\\Local\\Packages\\PythonSoftwareFoundation.Python.3.10_qbz5n2kfra8p0\\LocalCache\\local-packages\\Python310\\site-packages\\urllib3\\connectionpool.py:386\u001b[0m, in \u001b[0;36mHTTPConnectionPool._make_request\u001b[1;34m(self, conn, method, url, timeout, chunked, **httplib_request_kw)\u001b[0m\n\u001b[0;32m    385\u001b[0m \u001b[39mtry\u001b[39;00m:\n\u001b[1;32m--> 386\u001b[0m     \u001b[39mself\u001b[39;49m\u001b[39m.\u001b[39;49m_validate_conn(conn)\n\u001b[0;32m    387\u001b[0m \u001b[39mexcept\u001b[39;00m (SocketTimeout, BaseSSLError) \u001b[39mas\u001b[39;00m e:\n\u001b[0;32m    388\u001b[0m     \u001b[39m# Py2 raises this as a BaseSSLError, Py3 raises it as socket timeout.\u001b[39;00m\n",
      "File \u001b[1;32m~\\AppData\\Local\\Packages\\PythonSoftwareFoundation.Python.3.10_qbz5n2kfra8p0\\LocalCache\\local-packages\\Python310\\site-packages\\urllib3\\connectionpool.py:1042\u001b[0m, in \u001b[0;36mHTTPSConnectionPool._validate_conn\u001b[1;34m(self, conn)\u001b[0m\n\u001b[0;32m   1041\u001b[0m \u001b[39mif\u001b[39;00m \u001b[39mnot\u001b[39;00m \u001b[39mgetattr\u001b[39m(conn, \u001b[39m\"\u001b[39m\u001b[39msock\u001b[39m\u001b[39m\"\u001b[39m, \u001b[39mNone\u001b[39;00m):  \u001b[39m# AppEngine might not have  `.sock`\u001b[39;00m\n\u001b[1;32m-> 1042\u001b[0m     conn\u001b[39m.\u001b[39;49mconnect()\n\u001b[0;32m   1044\u001b[0m \u001b[39mif\u001b[39;00m \u001b[39mnot\u001b[39;00m conn\u001b[39m.\u001b[39mis_verified:\n",
      "File \u001b[1;32m~\\AppData\\Local\\Packages\\PythonSoftwareFoundation.Python.3.10_qbz5n2kfra8p0\\LocalCache\\local-packages\\Python310\\site-packages\\urllib3\\connection.py:358\u001b[0m, in \u001b[0;36mHTTPSConnection.connect\u001b[1;34m(self)\u001b[0m\n\u001b[0;32m    356\u001b[0m \u001b[39mdef\u001b[39;00m \u001b[39mconnect\u001b[39m(\u001b[39mself\u001b[39m):\n\u001b[0;32m    357\u001b[0m     \u001b[39m# Add certificate verification\u001b[39;00m\n\u001b[1;32m--> 358\u001b[0m     \u001b[39mself\u001b[39m\u001b[39m.\u001b[39msock \u001b[39m=\u001b[39m conn \u001b[39m=\u001b[39m \u001b[39mself\u001b[39;49m\u001b[39m.\u001b[39;49m_new_conn()\n\u001b[0;32m    359\u001b[0m     hostname \u001b[39m=\u001b[39m \u001b[39mself\u001b[39m\u001b[39m.\u001b[39mhost\n",
      "File \u001b[1;32m~\\AppData\\Local\\Packages\\PythonSoftwareFoundation.Python.3.10_qbz5n2kfra8p0\\LocalCache\\local-packages\\Python310\\site-packages\\urllib3\\connection.py:186\u001b[0m, in \u001b[0;36mHTTPConnection._new_conn\u001b[1;34m(self)\u001b[0m\n\u001b[0;32m    185\u001b[0m \u001b[39mexcept\u001b[39;00m SocketError \u001b[39mas\u001b[39;00m e:\n\u001b[1;32m--> 186\u001b[0m     \u001b[39mraise\u001b[39;00m NewConnectionError(\n\u001b[0;32m    187\u001b[0m         \u001b[39mself\u001b[39m, \u001b[39m\"\u001b[39m\u001b[39mFailed to establish a new connection: \u001b[39m\u001b[39m%s\u001b[39;00m\u001b[39m\"\u001b[39m \u001b[39m%\u001b[39m e\n\u001b[0;32m    188\u001b[0m     )\n\u001b[0;32m    190\u001b[0m \u001b[39mreturn\u001b[39;00m conn\n",
      "\u001b[1;31mNewConnectionError\u001b[0m: <urllib3.connection.HTTPSConnection object at 0x000001E9FB658EB0>: Failed to establish a new connection: [Errno 11001] getaddrinfo failed",
      "\nDuring handling of the above exception, another exception occurred:\n",
      "\u001b[1;31mMaxRetryError\u001b[0m                             Traceback (most recent call last)",
      "File \u001b[1;32m~\\AppData\\Local\\Packages\\PythonSoftwareFoundation.Python.3.10_qbz5n2kfra8p0\\LocalCache\\local-packages\\Python310\\site-packages\\requests\\adapters.py:439\u001b[0m, in \u001b[0;36mHTTPAdapter.send\u001b[1;34m(self, request, stream, timeout, verify, cert, proxies)\u001b[0m\n\u001b[0;32m    438\u001b[0m \u001b[39mif\u001b[39;00m \u001b[39mnot\u001b[39;00m chunked:\n\u001b[1;32m--> 439\u001b[0m     resp \u001b[39m=\u001b[39m conn\u001b[39m.\u001b[39;49murlopen(\n\u001b[0;32m    440\u001b[0m         method\u001b[39m=\u001b[39;49mrequest\u001b[39m.\u001b[39;49mmethod,\n\u001b[0;32m    441\u001b[0m         url\u001b[39m=\u001b[39;49murl,\n\u001b[0;32m    442\u001b[0m         body\u001b[39m=\u001b[39;49mrequest\u001b[39m.\u001b[39;49mbody,\n\u001b[0;32m    443\u001b[0m         headers\u001b[39m=\u001b[39;49mrequest\u001b[39m.\u001b[39;49mheaders,\n\u001b[0;32m    444\u001b[0m         redirect\u001b[39m=\u001b[39;49m\u001b[39mFalse\u001b[39;49;00m,\n\u001b[0;32m    445\u001b[0m         assert_same_host\u001b[39m=\u001b[39;49m\u001b[39mFalse\u001b[39;49;00m,\n\u001b[0;32m    446\u001b[0m         preload_content\u001b[39m=\u001b[39;49m\u001b[39mFalse\u001b[39;49;00m,\n\u001b[0;32m    447\u001b[0m         decode_content\u001b[39m=\u001b[39;49m\u001b[39mFalse\u001b[39;49;00m,\n\u001b[0;32m    448\u001b[0m         retries\u001b[39m=\u001b[39;49m\u001b[39mself\u001b[39;49m\u001b[39m.\u001b[39;49mmax_retries,\n\u001b[0;32m    449\u001b[0m         timeout\u001b[39m=\u001b[39;49mtimeout\n\u001b[0;32m    450\u001b[0m     )\n\u001b[0;32m    452\u001b[0m \u001b[39m# Send the request.\u001b[39;00m\n\u001b[0;32m    453\u001b[0m \u001b[39melse\u001b[39;00m:\n",
      "File \u001b[1;32m~\\AppData\\Local\\Packages\\PythonSoftwareFoundation.Python.3.10_qbz5n2kfra8p0\\LocalCache\\local-packages\\Python310\\site-packages\\urllib3\\connectionpool.py:787\u001b[0m, in \u001b[0;36mHTTPConnectionPool.urlopen\u001b[1;34m(self, method, url, body, headers, retries, redirect, assert_same_host, timeout, pool_timeout, release_conn, chunked, body_pos, **response_kw)\u001b[0m\n\u001b[0;32m    785\u001b[0m     e \u001b[39m=\u001b[39m ProtocolError(\u001b[39m\"\u001b[39m\u001b[39mConnection aborted.\u001b[39m\u001b[39m\"\u001b[39m, e)\n\u001b[1;32m--> 787\u001b[0m retries \u001b[39m=\u001b[39m retries\u001b[39m.\u001b[39;49mincrement(\n\u001b[0;32m    788\u001b[0m     method, url, error\u001b[39m=\u001b[39;49me, _pool\u001b[39m=\u001b[39;49m\u001b[39mself\u001b[39;49m, _stacktrace\u001b[39m=\u001b[39;49msys\u001b[39m.\u001b[39;49mexc_info()[\u001b[39m2\u001b[39;49m]\n\u001b[0;32m    789\u001b[0m )\n\u001b[0;32m    790\u001b[0m retries\u001b[39m.\u001b[39msleep()\n",
      "File \u001b[1;32m~\\AppData\\Local\\Packages\\PythonSoftwareFoundation.Python.3.10_qbz5n2kfra8p0\\LocalCache\\local-packages\\Python310\\site-packages\\urllib3\\util\\retry.py:592\u001b[0m, in \u001b[0;36mRetry.increment\u001b[1;34m(self, method, url, response, error, _pool, _stacktrace)\u001b[0m\n\u001b[0;32m    591\u001b[0m \u001b[39mif\u001b[39;00m new_retry\u001b[39m.\u001b[39mis_exhausted():\n\u001b[1;32m--> 592\u001b[0m     \u001b[39mraise\u001b[39;00m MaxRetryError(_pool, url, error \u001b[39mor\u001b[39;00m ResponseError(cause))\n\u001b[0;32m    594\u001b[0m log\u001b[39m.\u001b[39mdebug(\u001b[39m\"\u001b[39m\u001b[39mIncremented Retry for (url=\u001b[39m\u001b[39m'\u001b[39m\u001b[39m%s\u001b[39;00m\u001b[39m'\u001b[39m\u001b[39m): \u001b[39m\u001b[39m%r\u001b[39;00m\u001b[39m\"\u001b[39m, url, new_retry)\n",
      "\u001b[1;31mMaxRetryError\u001b[0m: HTTPSConnectionPool(host='api.coingecko.com', port=443): Max retries exceeded with url: /api/v3/coins/list?include_platform=false (Caused by NewConnectionError('<urllib3.connection.HTTPSConnection object at 0x000001E9FB658EB0>: Failed to establish a new connection: [Errno 11001] getaddrinfo failed'))",
      "\nDuring handling of the above exception, another exception occurred:\n",
      "\u001b[1;31mConnectionError\u001b[0m                           Traceback (most recent call last)",
      "\u001b[1;32md:\\Data Scientist\\CURSADO HENRY DTS09\\PI PT02 - Def\\Cripto_analisis_lucaramallo\\EDA_Cripto.ipynb Cell 7\u001b[0m in \u001b[0;36m1\n\u001b[0;32m     <a href='vscode-notebook-cell:/d%3A/Data%20Scientist/CURSADO%20HENRY%20DTS09/PI%20PT02%20-%20Def/Cripto_analisis_lucaramallo/EDA_Cripto.ipynb#W6sZmlsZQ%3D%3D?line=11'>12</a>\u001b[0m         \u001b[39mreturn\u001b[39;00m \u001b[39mNone\u001b[39;00m\n\u001b[0;32m     <a href='vscode-notebook-cell:/d%3A/Data%20Scientist/CURSADO%20HENRY%20DTS09/PI%20PT02%20-%20Def/Cripto_analisis_lucaramallo/EDA_Cripto.ipynb#W6sZmlsZQ%3D%3D?line=13'>14</a>\u001b[0m \u001b[39mif\u001b[39;00m \u001b[39m__name__\u001b[39m \u001b[39m==\u001b[39m \u001b[39m\"\u001b[39m\u001b[39m__main__\u001b[39m\u001b[39m\"\u001b[39m:\n\u001b[1;32m---> <a href='vscode-notebook-cell:/d%3A/Data%20Scientist/CURSADO%20HENRY%20DTS09/PI%20PT02%20-%20Def/Cripto_analisis_lucaramallo/EDA_Cripto.ipynb#W6sZmlsZQ%3D%3D?line=14'>15</a>\u001b[0m     coin_id \u001b[39m=\u001b[39m get_coin_list()\n\u001b[0;32m     <a href='vscode-notebook-cell:/d%3A/Data%20Scientist/CURSADO%20HENRY%20DTS09/PI%20PT02%20-%20Def/Cripto_analisis_lucaramallo/EDA_Cripto.ipynb#W6sZmlsZQ%3D%3D?line=15'>16</a>\u001b[0m     \u001b[39mif\u001b[39;00m coin_id \u001b[39mis\u001b[39;00m \u001b[39mnot\u001b[39;00m \u001b[39mNone\u001b[39;00m:\n\u001b[0;32m     <a href='vscode-notebook-cell:/d%3A/Data%20Scientist/CURSADO%20HENRY%20DTS09/PI%20PT02%20-%20Def/Cripto_analisis_lucaramallo/EDA_Cripto.ipynb#W6sZmlsZQ%3D%3D?line=16'>17</a>\u001b[0m         \u001b[39mprint\u001b[39m(coin_id)\n",
      "\u001b[1;32md:\\Data Scientist\\CURSADO HENRY DTS09\\PI PT02 - Def\\Cripto_analisis_lucaramallo\\EDA_Cripto.ipynb Cell 7\u001b[0m in \u001b[0;36m4\n\u001b[0;32m      <a href='vscode-notebook-cell:/d%3A/Data%20Scientist/CURSADO%20HENRY%20DTS09/PI%20PT02%20-%20Def/Cripto_analisis_lucaramallo/EDA_Cripto.ipynb#W6sZmlsZQ%3D%3D?line=0'>1</a>\u001b[0m \u001b[39mdef\u001b[39;00m \u001b[39mget_coin_list\u001b[39m():\n\u001b[0;32m      <a href='vscode-notebook-cell:/d%3A/Data%20Scientist/CURSADO%20HENRY%20DTS09/PI%20PT02%20-%20Def/Cripto_analisis_lucaramallo/EDA_Cripto.ipynb#W6sZmlsZQ%3D%3D?line=1'>2</a>\u001b[0m     url \u001b[39m=\u001b[39m \u001b[39m\"\u001b[39m\u001b[39mhttps://api.coingecko.com/api/v3/coins/list?include_platform=false\u001b[39m\u001b[39m\"\u001b[39m\n\u001b[1;32m----> <a href='vscode-notebook-cell:/d%3A/Data%20Scientist/CURSADO%20HENRY%20DTS09/PI%20PT02%20-%20Def/Cripto_analisis_lucaramallo/EDA_Cripto.ipynb#W6sZmlsZQ%3D%3D?line=3'>4</a>\u001b[0m     response \u001b[39m=\u001b[39m requests\u001b[39m.\u001b[39;49mget(url)\n\u001b[0;32m      <a href='vscode-notebook-cell:/d%3A/Data%20Scientist/CURSADO%20HENRY%20DTS09/PI%20PT02%20-%20Def/Cripto_analisis_lucaramallo/EDA_Cripto.ipynb#W6sZmlsZQ%3D%3D?line=5'>6</a>\u001b[0m     \u001b[39mif\u001b[39;00m response\u001b[39m.\u001b[39mstatus_code \u001b[39m==\u001b[39m \u001b[39m200\u001b[39m:\n\u001b[0;32m      <a href='vscode-notebook-cell:/d%3A/Data%20Scientist/CURSADO%20HENRY%20DTS09/PI%20PT02%20-%20Def/Cripto_analisis_lucaramallo/EDA_Cripto.ipynb#W6sZmlsZQ%3D%3D?line=6'>7</a>\u001b[0m         coin_list \u001b[39m=\u001b[39m response\u001b[39m.\u001b[39mjson()\n",
      "File \u001b[1;32m~\\AppData\\Local\\Packages\\PythonSoftwareFoundation.Python.3.10_qbz5n2kfra8p0\\LocalCache\\local-packages\\Python310\\site-packages\\requests\\api.py:76\u001b[0m, in \u001b[0;36mget\u001b[1;34m(url, params, **kwargs)\u001b[0m\n\u001b[0;32m     65\u001b[0m \u001b[39mr\u001b[39m\u001b[39m\"\"\"Sends a GET request.\u001b[39;00m\n\u001b[0;32m     66\u001b[0m \n\u001b[0;32m     67\u001b[0m \u001b[39m:param url: URL for the new :class:`Request` object.\u001b[39;00m\n\u001b[1;32m   (...)\u001b[0m\n\u001b[0;32m     72\u001b[0m \u001b[39m:rtype: requests.Response\u001b[39;00m\n\u001b[0;32m     73\u001b[0m \u001b[39m\"\"\"\u001b[39;00m\n\u001b[0;32m     75\u001b[0m kwargs\u001b[39m.\u001b[39msetdefault(\u001b[39m'\u001b[39m\u001b[39mallow_redirects\u001b[39m\u001b[39m'\u001b[39m, \u001b[39mTrue\u001b[39;00m)\n\u001b[1;32m---> 76\u001b[0m \u001b[39mreturn\u001b[39;00m request(\u001b[39m'\u001b[39m\u001b[39mget\u001b[39m\u001b[39m'\u001b[39m, url, params\u001b[39m=\u001b[39mparams, \u001b[39m*\u001b[39m\u001b[39m*\u001b[39mkwargs)\n",
      "File \u001b[1;32m~\\AppData\\Local\\Packages\\PythonSoftwareFoundation.Python.3.10_qbz5n2kfra8p0\\LocalCache\\local-packages\\Python310\\site-packages\\requests\\api.py:61\u001b[0m, in \u001b[0;36mrequest\u001b[1;34m(method, url, **kwargs)\u001b[0m\n\u001b[0;32m     57\u001b[0m \u001b[39m# By using the 'with' statement we are sure the session is closed, thus we\u001b[39;00m\n\u001b[0;32m     58\u001b[0m \u001b[39m# avoid leaving sockets open which can trigger a ResourceWarning in some\u001b[39;00m\n\u001b[0;32m     59\u001b[0m \u001b[39m# cases, and look like a memory leak in others.\u001b[39;00m\n\u001b[0;32m     60\u001b[0m \u001b[39mwith\u001b[39;00m sessions\u001b[39m.\u001b[39mSession() \u001b[39mas\u001b[39;00m session:\n\u001b[1;32m---> 61\u001b[0m     \u001b[39mreturn\u001b[39;00m session\u001b[39m.\u001b[39mrequest(method\u001b[39m=\u001b[39mmethod, url\u001b[39m=\u001b[39murl, \u001b[39m*\u001b[39m\u001b[39m*\u001b[39mkwargs)\n",
      "File \u001b[1;32m~\\AppData\\Local\\Packages\\PythonSoftwareFoundation.Python.3.10_qbz5n2kfra8p0\\LocalCache\\local-packages\\Python310\\site-packages\\requests\\sessions.py:542\u001b[0m, in \u001b[0;36mSession.request\u001b[1;34m(self, method, url, params, data, headers, cookies, files, auth, timeout, allow_redirects, proxies, hooks, stream, verify, cert, json)\u001b[0m\n\u001b[0;32m    537\u001b[0m send_kwargs \u001b[39m=\u001b[39m {\n\u001b[0;32m    538\u001b[0m     \u001b[39m'\u001b[39m\u001b[39mtimeout\u001b[39m\u001b[39m'\u001b[39m: timeout,\n\u001b[0;32m    539\u001b[0m     \u001b[39m'\u001b[39m\u001b[39mallow_redirects\u001b[39m\u001b[39m'\u001b[39m: allow_redirects,\n\u001b[0;32m    540\u001b[0m }\n\u001b[0;32m    541\u001b[0m send_kwargs\u001b[39m.\u001b[39mupdate(settings)\n\u001b[1;32m--> 542\u001b[0m resp \u001b[39m=\u001b[39m \u001b[39mself\u001b[39m\u001b[39m.\u001b[39msend(prep, \u001b[39m*\u001b[39m\u001b[39m*\u001b[39msend_kwargs)\n\u001b[0;32m    544\u001b[0m \u001b[39mreturn\u001b[39;00m resp\n",
      "File \u001b[1;32m~\\AppData\\Local\\Packages\\PythonSoftwareFoundation.Python.3.10_qbz5n2kfra8p0\\LocalCache\\local-packages\\Python310\\site-packages\\requests\\sessions.py:655\u001b[0m, in \u001b[0;36mSession.send\u001b[1;34m(self, request, **kwargs)\u001b[0m\n\u001b[0;32m    652\u001b[0m start \u001b[39m=\u001b[39m preferred_clock()\n\u001b[0;32m    654\u001b[0m \u001b[39m# Send the request\u001b[39;00m\n\u001b[1;32m--> 655\u001b[0m r \u001b[39m=\u001b[39m adapter\u001b[39m.\u001b[39msend(request, \u001b[39m*\u001b[39m\u001b[39m*\u001b[39mkwargs)\n\u001b[0;32m    657\u001b[0m \u001b[39m# Total elapsed time of the request (approximately)\u001b[39;00m\n\u001b[0;32m    658\u001b[0m elapsed \u001b[39m=\u001b[39m preferred_clock() \u001b[39m-\u001b[39m start\n",
      "File \u001b[1;32m~\\AppData\\Local\\Packages\\PythonSoftwareFoundation.Python.3.10_qbz5n2kfra8p0\\LocalCache\\local-packages\\Python310\\site-packages\\requests\\adapters.py:516\u001b[0m, in \u001b[0;36mHTTPAdapter.send\u001b[1;34m(self, request, stream, timeout, verify, cert, proxies)\u001b[0m\n\u001b[0;32m    512\u001b[0m     \u001b[39mif\u001b[39;00m \u001b[39misinstance\u001b[39m(e\u001b[39m.\u001b[39mreason, _SSLError):\n\u001b[0;32m    513\u001b[0m         \u001b[39m# This branch is for urllib3 v1.22 and later.\u001b[39;00m\n\u001b[0;32m    514\u001b[0m         \u001b[39mraise\u001b[39;00m SSLError(e, request\u001b[39m=\u001b[39mrequest)\n\u001b[1;32m--> 516\u001b[0m     \u001b[39mraise\u001b[39;00m \u001b[39mConnectionError\u001b[39;00m(e, request\u001b[39m=\u001b[39mrequest)\n\u001b[0;32m    518\u001b[0m \u001b[39mexcept\u001b[39;00m ClosedPoolError \u001b[39mas\u001b[39;00m e:\n\u001b[0;32m    519\u001b[0m     \u001b[39mraise\u001b[39;00m \u001b[39mConnectionError\u001b[39;00m(e, request\u001b[39m=\u001b[39mrequest)\n",
      "\u001b[1;31mConnectionError\u001b[0m: HTTPSConnectionPool(host='api.coingecko.com', port=443): Max retries exceeded with url: /api/v3/coins/list?include_platform=false (Caused by NewConnectionError('<urllib3.connection.HTTPSConnection object at 0x000001E9FB658EB0>: Failed to establish a new connection: [Errno 11001] getaddrinfo failed'))"
     ]
    }
   ],
   "source": [
    "def get_coin_list():\n",
    "    url = \"https://api.coingecko.com/api/v3/coins/list?include_platform=false\"\n",
    "    \n",
    "    response = requests.get(url)\n",
    "    \n",
    "    if response.status_code == 200:\n",
    "        coin_list = response.json()\n",
    "        coin_id = pd.DataFrame(coin_list)\n",
    "        return coin_id\n",
    "    else:\n",
    "        print(\"Error en la solicitud: Listado de monedas\", response.status_code)\n",
    "        return None\n",
    "\n",
    "if __name__ == \"__main__\":\n",
    "    coin_id = get_coin_list()\n",
    "    if coin_id is not None:\n",
    "        print(coin_id)\n"
   ]
  },
  {
   "cell_type": "code",
   "execution_count": null,
   "metadata": {},
   "outputs": [],
   "source": [
    "coin_id.head()"
   ]
  },
  {
   "cell_type": "code",
   "execution_count": null,
   "metadata": {},
   "outputs": [],
   "source": []
  },
  {
   "cell_type": "markdown",
   "metadata": {},
   "source": [
    "### Listado de precios, market caps y total volumes:"
   ]
  },
  {
   "cell_type": "code",
   "execution_count": 3,
   "metadata": {},
   "outputs": [
    {
     "name": "stdout",
     "output_type": "stream",
     "text": [
      "                            prices                          market_caps  \\\n",
      "0     [1605744000000, 17829.93496]  [1605744000000, 330792375072.03064]   \n",
      "1     [1605830400000, 17819.75743]   [1605830400000, 330526082018.5286]   \n",
      "2     [1605916800000, 18628.81349]  [1605916800000, 345552251091.15924]   \n",
      "3     [1606003200000, 18689.52866]   [1606003200000, 346623937352.1668]   \n",
      "4     [1606089600000, 18390.61184]   [1606089600000, 342078349285.0962]   \n",
      "...                            ...                                  ...   \n",
      "996   [1691798400000, 29396.84797]   [1691798400000, 571976559045.8302]   \n",
      "997   [1691884800000, 29412.14227]   [1691884800000, 572257798803.9086]   \n",
      "998   [1691971200000, 29284.96971]   [1691971200000, 569687130446.7833]   \n",
      "999    [1692057600000, 29400.5868]   [1692057600000, 572242735188.2397]   \n",
      "1000  [1692126934000, 29128.96945]    [1692126934000, 567743500603.184]   \n",
      "\n",
      "                            total_volumes  \n",
      "0      [1605744000000, 40089857655.31074]  \n",
      "1     [1605830400000, 30586797551.711708]  \n",
      "2     [1605916800000, 28731271104.013725]  \n",
      "3     [1606003200000, 31201880851.778336]  \n",
      "4      [1606089600000, 33010231293.95878]  \n",
      "...                                   ...  \n",
      "996    [1691798400000, 4651950357.636653]  \n",
      "997    [1691884800000, 3994297895.288944]  \n",
      "998    [1691971200000, 4755220448.634491]  \n",
      "999   [1692057600000, 12408355477.111338]  \n",
      "1000  [1692126934000, 10782763604.146353]  \n",
      "\n",
      "[1001 rows x 3 columns]\n"
     ]
    }
   ],
   "source": [
    "#for one coine only, historical prices.\n",
    "\n",
    "def get_coin_list():\n",
    "    url = \"https://api.coingecko.com/api/v3/coins/bitcoin/market_chart?vs_currency=usd&days=1000&interval=daily&precision=5\"\n",
    "    \n",
    "    response = requests.get(url)\n",
    "    \n",
    "    if response.status_code == 200:\n",
    "        coin_price_list = response.json()\n",
    "        list_of_prices = pd.DataFrame(coin_price_list)\n",
    "        return list_of_prices\n",
    "    else:\n",
    "        print(\"Error en la solicitud: Listado de monedas\", response.status_code)\n",
    "        return None\n",
    "\n",
    "if __name__ == \"__main__\":\n",
    "    list_of_prices = get_coin_list()\n",
    "    if list_of_prices is not None:\n",
    "        print(list_of_prices)"
   ]
  },
  {
   "cell_type": "markdown",
   "metadata": {},
   "source": [
    "### OHLC of the currency\n",
    "[\n",
    "1594382400000 (time),\n",
    "1.1 (open),\n",
    "2.2 (high),\n",
    "3.3 (low),\n",
    "4.4 (close)\n",
    "]"
   ]
  },
  {
   "cell_type": "code",
   "execution_count": 4,
   "metadata": {},
   "outputs": [
    {
     "name": "stdout",
     "output_type": "stream",
     "text": [
      "                 0            1            2            3            4\n",
      "0    1689552000000  30276.12799  30340.36734  30276.12799  30340.36734\n",
      "1    1689566400000  30237.33479  30308.41177  30225.18268  30291.07834\n",
      "2    1689580800000  30305.29460  30305.29460  30269.68755  30269.68755\n",
      "3    1689595200000  30285.81295  30291.12739  30129.44768  30129.44768\n",
      "4    1689609600000  30183.52975  30282.82964  30183.52975  30282.82964\n",
      "..             ...          ...          ...          ...          ...\n",
      "175  1692072000000  29400.58680  29400.58680  29344.43692  29344.43692\n",
      "176  1692086400000  29349.91371  29351.61102  29341.66613  29341.66613\n",
      "177  1692100800000  29389.99158  29393.61844  29364.89354  29364.89354\n",
      "178  1692115200000  29330.76812  29392.99268  29325.62658  29392.99268\n",
      "179  1692129600000  29295.37242  29308.96500  29248.67823  29308.96500\n",
      "\n",
      "[180 rows x 5 columns]\n"
     ]
    }
   ],
   "source": [
    "def get_coin_list():\n",
    "    url = \"https://api.coingecko.com/api/v3/coins/bitcoin/ohlc?vs_currency=usd&days=30&precision=5\"\n",
    "    \n",
    "    response = requests.get(url)\n",
    "    \n",
    "    if response.status_code == 200:\n",
    "        coin_price_OHLC = response.json()\n",
    "        list_of_prices_OHLC = pd.DataFrame(coin_price_OHLC)\n",
    "        return list_of_prices_OHLC\n",
    "    else:\n",
    "        print(\"Error en la solicitud: Listado de monedas\", response.status_code)\n",
    "        return None\n",
    "\n",
    "if __name__ == \"__main__\":\n",
    "    list_of_prices_OHLC = get_coin_list()\n",
    "    if list_of_prices_OHLC is not None:\n",
    "        print(list_of_prices_OHLC)"
   ]
  },
  {
   "cell_type": "markdown",
   "metadata": {},
   "source": [
    "### Global data:\n",
    "Get global data - total_volume, total_market_cap, ongoing icos etc"
   ]
  },
  {
   "cell_type": "code",
   "execution_count": 5,
   "metadata": {},
   "outputs": [
    {
     "name": "stdout",
     "output_type": "stream",
     "text": [
      "                                                                                   data\n",
      "active_cryptocurrencies                                                           10055\n",
      "ended_icos                                                                         3376\n",
      "market_cap_change_percentage_24h_usd                                          -0.108472\n",
      "market_cap_percentage                 {'btc': 46.97319305662408, 'eth': 18.204273013...\n",
      "markets                                                                             813\n",
      "ongoing_icos                                                                         49\n",
      "total_market_cap                      {'btc': 41424397.05247164, 'eth': 660080708.37...\n",
      "total_volume                          {'btc': 1012221.1975358143, 'eth': 16129327.94...\n",
      "upcoming_icos                                                                         0\n",
      "updated_at                                                                   1692126399\n"
     ]
    }
   ],
   "source": [
    "\n",
    "def get_coin_list():\n",
    "    url = \"https://api.coingecko.com/api/v3/global\"\n",
    "    \n",
    "    response = requests.get(url)\n",
    "    \n",
    "    if response.status_code == 200:\n",
    "        global_data = response.json()\n",
    "        list_of_global_data = pd.DataFrame(global_data)\n",
    "        return list_of_global_data\n",
    "    else:\n",
    "        print(\"Error en la solicitud: Listado de monedas\", response.status_code)\n",
    "        return None\n",
    "\n",
    "if __name__ == \"__main__\":\n",
    "    list_of_global_data = get_coin_list()\n",
    "    if list_of_global_data is not None:\n",
    "        print(list_of_global_data)\n"
   ]
  },
  {
   "cell_type": "markdown",
   "metadata": {},
   "source": [
    "### Global Eecentralized Finance(defi) data:\n",
    "Code\tDescription\n",
    "defi_market_cap\t\n",
    "Defi Market Capitalization in USD\n",
    "\n",
    "eth_market_cap\t\n",
    "Ethereum Market Capitalization in USD\n",
    "\n",
    "defi_to_eth_ratio\t\n",
    "defi_market_cap to eth_market_cap ratio\n",
    "\n",
    "trading_volume_24h\t\n",
    "defi trading volume in 24h in USD\n",
    "\n",
    "defi_dominance\t\n",
    "defi_market_cap to total_market_cap ratio\n",
    "\n",
    "top_coin_name\t\n",
    "defi coin with largest market_cap\n",
    "\n",
    "top_coin_dominance\t\n",
    "top defi coin market dominance"
   ]
  },
  {
   "cell_type": "code",
   "execution_count": 6,
   "metadata": {},
   "outputs": [
    {
     "name": "stdout",
     "output_type": "stream",
     "text": [
      "                                                                      data\n",
      "defi_dominance           3.80839377310975119420830621203117562442661910...\n",
      "defi_market_cap                            45758003887.7668748176868230593\n",
      "defi_to_eth_ratio        20.8883311160630466913016621267890925649318140...\n",
      "eth_market_cap                            219060123250.2444627468447530013\n",
      "top_coin_defi_dominance                                          32.433725\n",
      "top_coin_name                                            Lido Staked Ether\n",
      "trading_volume_24h                         1707775223.92333666703049205974\n"
     ]
    }
   ],
   "source": [
    "def get_coin_list():\n",
    "    url = \"https://api.coingecko.com/api/v3/global/decentralized_finance_defi\"\n",
    "    \n",
    "    response = requests.get(url)\n",
    "    \n",
    "    if response.status_code == 200:\n",
    "        global_ecentralized_data = response.json()\n",
    "        list_of_global_ecentralized_data = pd.DataFrame(global_ecentralized_data)\n",
    "        return list_of_global_ecentralized_data\n",
    "    else:\n",
    "        print(\"Error en la solicitud: Listado de monedas\", response.status_code)\n",
    "        return None\n",
    "\n",
    "if __name__ == \"__main__\":\n",
    "    list_of_global_ecentralized_data = get_coin_list()\n",
    "    if list_of_global_ecentralized_data is not None:\n",
    "        print(list_of_global_ecentralized_data)\n"
   ]
  },
  {
   "cell_type": "markdown",
   "metadata": {},
   "source": [
    "### Trending top 7:\n",
    "Top-7 trending coins on CoinGecko as searched by users in the last 24 hours (Ordered by most popular first)."
   ]
  },
  {
   "cell_type": "code",
   "execution_count": 7,
   "metadata": {},
   "outputs": [
    {
     "name": "stdout",
     "output_type": "stream",
     "text": [
      "Coins DataFrame:\n",
      "                          id  coin_id                              name  \\\n",
      "0                sei-network    28205                               Sei   \n",
      "1               cyberconnect    31274                      Cyberconnect   \n",
      "2                  clearpool    19252                         Clearpool   \n",
      "3  harrypotterobamasonic10in    30323  HarryPotterObamaSonic10Inu (ETH)   \n",
      "4                        sui    26375                               Sui   \n",
      "5                  thorchain     6595                         THORChain   \n",
      "6                     unibot    30462                            Unibot   \n",
      "7              worldcoin-wld    31069                         Worldcoin   \n",
      "\n",
      "    symbol  market_cap_rank  \\\n",
      "0      SEI              115   \n",
      "1    CYBER              394   \n",
      "2    CPOOL              963   \n",
      "3  BITCOIN              186   \n",
      "4      SUI               97   \n",
      "5     RUNE               89   \n",
      "6   UNIBOT              159   \n",
      "7      WLD              155   \n",
      "\n",
      "                                               thumb  \\\n",
      "0  https://assets.coingecko.com/coins/images/2820...   \n",
      "1  https://assets.coingecko.com/coins/images/3127...   \n",
      "2  https://assets.coingecko.com/coins/images/1925...   \n",
      "3  https://assets.coingecko.com/coins/images/3032...   \n",
      "4  https://assets.coingecko.com/coins/images/2637...   \n",
      "5  https://assets.coingecko.com/coins/images/6595...   \n",
      "6  https://assets.coingecko.com/coins/images/3046...   \n",
      "7  https://assets.coingecko.com/coins/images/3106...   \n",
      "\n",
      "                                               small  \\\n",
      "0  https://assets.coingecko.com/coins/images/2820...   \n",
      "1  https://assets.coingecko.com/coins/images/3127...   \n",
      "2  https://assets.coingecko.com/coins/images/1925...   \n",
      "3  https://assets.coingecko.com/coins/images/3032...   \n",
      "4  https://assets.coingecko.com/coins/images/2637...   \n",
      "5  https://assets.coingecko.com/coins/images/6595...   \n",
      "6  https://assets.coingecko.com/coins/images/3046...   \n",
      "7  https://assets.coingecko.com/coins/images/3106...   \n",
      "\n",
      "                                               large  \\\n",
      "0  https://assets.coingecko.com/coins/images/2820...   \n",
      "1  https://assets.coingecko.com/coins/images/3127...   \n",
      "2  https://assets.coingecko.com/coins/images/1925...   \n",
      "3  https://assets.coingecko.com/coins/images/3032...   \n",
      "4  https://assets.coingecko.com/coins/images/2637...   \n",
      "5  https://assets.coingecko.com/coins/images/6595...   \n",
      "6  https://assets.coingecko.com/coins/images/3046...   \n",
      "7  https://assets.coingecko.com/coins/images/3106...   \n",
      "\n",
      "                             slug     price_btc  score  \n",
      "0                             sei  5.887701e-06      0  \n",
      "1                    cyberconnect  1.581767e-04      1  \n",
      "2                       clearpool  7.467048e-07      2  \n",
      "3  harrypotterobamasonic10inu-eth  5.816757e-06      3  \n",
      "4                             sui  1.890974e-05      4  \n",
      "5                       thorchain  5.293685e-05      5  \n",
      "6                          unibot  7.029546e-03      6  \n",
      "7                       worldcoin  5.712007e-05      7  \n"
     ]
    }
   ],
   "source": [
    "def get_coin_list():\n",
    "    url = \"https://api.coingecko.com/api/v3/search/trending\"\n",
    "    \n",
    "    response = requests.get(url)\n",
    "    \n",
    "    if response.status_code == 200:\n",
    "        global_trends = response.json()\n",
    "        coins_data_global_trends = global_trends.get('coins', [])  # Extract coins data\n",
    "        \n",
    "        coins_global_trends = pd.DataFrame([item['item'] for item in coins_data_global_trends])  # Create DataFrame for coins\n",
    "        \n",
    "        return coins_global_trends\n",
    "    else:\n",
    "        print(\"Error en la solicitud: Listado de monedas\", response.status_code)\n",
    "        return None\n",
    "\n",
    "if __name__ == \"__main__\":\n",
    "    coins_global_trends = get_coin_list()\n",
    "    if coins_global_trends is not None:\n",
    "        print(\"Coins DataFrame:\")\n",
    "        print(coins_global_trends)\n",
    "\n"
   ]
  }
 ],
 "metadata": {
  "kernelspec": {
   "display_name": "Python 3",
   "language": "python",
   "name": "python3"
  },
  "language_info": {
   "codemirror_mode": {
    "name": "ipython",
    "version": 3
   },
   "file_extension": ".py",
   "mimetype": "text/x-python",
   "name": "python",
   "nbconvert_exporter": "python",
   "pygments_lexer": "ipython3",
   "version": "3.10.11"
  },
  "orig_nbformat": 4
 },
 "nbformat": 4,
 "nbformat_minor": 2
}
